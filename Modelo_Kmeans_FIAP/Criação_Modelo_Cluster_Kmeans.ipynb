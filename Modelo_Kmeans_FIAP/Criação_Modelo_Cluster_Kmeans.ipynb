{
 "cells": [
  {
   "cell_type": "markdown",
   "metadata": {
    "id": "8c7c29d8"
   },
   "source": [
    "https://minerandodados.com.br/analise-e-agrupamento-de-clientes-com-machine-learning-k-means/"
   ]
  },
  {
   "cell_type": "markdown",
   "metadata": {},
   "source": [
    "## Importando as Libs"
   ]
  },
  {
   "cell_type": "code",
   "execution_count": 295,
   "metadata": {
    "id": "e06a98e9"
   },
   "outputs": [],
   "source": [
    "import pandas as pd\n",
    "import numpy as np \n",
    "import matplotlib.pyplot as plt \n",
    "import seaborn as sns\n",
    "from sklearn.model_selection import train_test_split\n",
    "from sklearn.preprocessing import StandardScaler\n",
    "from sklearn.cluster import KMeans\n",
    "from datetime import date\n",
    "import re "
   ]
  },
  {
   "cell_type": "code",
   "execution_count": 296,
   "metadata": {
    "colab": {
     "base_uri": "https://localhost:8080/",
     "height": 203
    },
    "id": "CV6dMbXPb1iD",
    "outputId": "1fc96e3b-7b14-4011-bc7b-535f7859a72a"
   },
   "outputs": [
    {
     "data": {
      "text/html": [
       "<div>\n",
       "<style scoped>\n",
       "    .dataframe tbody tr th:only-of-type {\n",
       "        vertical-align: middle;\n",
       "    }\n",
       "\n",
       "    .dataframe tbody tr th {\n",
       "        vertical-align: top;\n",
       "    }\n",
       "\n",
       "    .dataframe thead th {\n",
       "        text-align: right;\n",
       "    }\n",
       "</style>\n",
       "<table border=\"1\" class=\"dataframe\">\n",
       "  <thead>\n",
       "    <tr style=\"text-align: right;\">\n",
       "      <th></th>\n",
       "      <th>CUSTOMER_ID</th>\n",
       "      <th>STORE_ID</th>\n",
       "      <th>PRODUCT_ID</th>\n",
       "      <th>AMOUNT</th>\n",
       "      <th>DATE</th>\n",
       "    </tr>\n",
       "  </thead>\n",
       "  <tbody>\n",
       "    <tr>\n",
       "      <th>0</th>\n",
       "      <td>95595791691</td>\n",
       "      <td>409</td>\n",
       "      <td>196282</td>\n",
       "      <td>8.980</td>\n",
       "      <td>2020-01-01 00:14:41 UTC</td>\n",
       "    </tr>\n",
       "    <tr>\n",
       "      <th>1</th>\n",
       "      <td>8814812624</td>\n",
       "      <td>62</td>\n",
       "      <td>136956</td>\n",
       "      <td>0.000</td>\n",
       "      <td>2020-01-01 00:10:16 UTC</td>\n",
       "    </tr>\n",
       "    <tr>\n",
       "      <th>2</th>\n",
       "      <td>38552620634</td>\n",
       "      <td>408</td>\n",
       "      <td>329</td>\n",
       "      <td>9.980</td>\n",
       "      <td>2020-01-01 00:08:29 UTC</td>\n",
       "    </tr>\n",
       "    <tr>\n",
       "      <th>3</th>\n",
       "      <td>11561694614</td>\n",
       "      <td>405</td>\n",
       "      <td>104089</td>\n",
       "      <td>7.990</td>\n",
       "      <td>2020-01-01 00:06:10 UTC</td>\n",
       "    </tr>\n",
       "    <tr>\n",
       "      <th>4</th>\n",
       "      <td>1216506698</td>\n",
       "      <td>62</td>\n",
       "      <td>196180</td>\n",
       "      <td>11.960</td>\n",
       "      <td>2020-01-01 00:05:30 UTC</td>\n",
       "    </tr>\n",
       "  </tbody>\n",
       "</table>\n",
       "</div>"
      ],
      "text/plain": [
       "   CUSTOMER_ID  STORE_ID  PRODUCT_ID  AMOUNT                     DATE\n",
       "0  95595791691       409      196282   8.980  2020-01-01 00:14:41 UTC\n",
       "1   8814812624        62      136956   0.000  2020-01-01 00:10:16 UTC\n",
       "2  38552620634       408         329   9.980  2020-01-01 00:08:29 UTC\n",
       "3  11561694614       405      104089   7.990  2020-01-01 00:06:10 UTC\n",
       "4   1216506698        62      196180  11.960  2020-01-01 00:05:30 UTC"
      ]
     },
     "execution_count": 296,
     "metadata": {},
     "output_type": "execute_result"
    }
   ],
   "source": [
    "df = pd.read_csv(\"https://raw.githubusercontent.com/diogenesjusto/FIAP/master/Gradua%C3%A7%C3%A3o/2021/S2/20210914/db_Exercicio_RFM.csv\")\n",
    "df.drop(\"Unnamed: 0\", axis=1, inplace=True)\n",
    "df.head()"
   ]
  },
  {
   "cell_type": "markdown",
   "metadata": {},
   "source": [
    "## Iniciando a fase Exploratória "
   ]
  },
  {
   "cell_type": "code",
   "execution_count": 297,
   "metadata": {
    "colab": {
     "base_uri": "https://localhost:8080/",
     "height": 295
    },
    "id": "0f912e58",
    "outputId": "70f27688-74b9-47c6-b8b1-9b244593f06a"
   },
   "outputs": [
    {
     "data": {
      "text/html": [
       "<div>\n",
       "<style scoped>\n",
       "    .dataframe tbody tr th:only-of-type {\n",
       "        vertical-align: middle;\n",
       "    }\n",
       "\n",
       "    .dataframe tbody tr th {\n",
       "        vertical-align: top;\n",
       "    }\n",
       "\n",
       "    .dataframe thead th {\n",
       "        text-align: right;\n",
       "    }\n",
       "</style>\n",
       "<table border=\"1\" class=\"dataframe\">\n",
       "  <thead>\n",
       "    <tr style=\"text-align: right;\">\n",
       "      <th></th>\n",
       "      <th>CUSTOMER_ID</th>\n",
       "      <th>STORE_ID</th>\n",
       "      <th>PRODUCT_ID</th>\n",
       "      <th>AMOUNT</th>\n",
       "    </tr>\n",
       "  </thead>\n",
       "  <tbody>\n",
       "    <tr>\n",
       "      <th>count</th>\n",
       "      <td>92294.000</td>\n",
       "      <td>92294.000</td>\n",
       "      <td>92294.000</td>\n",
       "      <td>92294.000</td>\n",
       "    </tr>\n",
       "    <tr>\n",
       "      <th>mean</th>\n",
       "      <td>45071670956583.531</td>\n",
       "      <td>308.693</td>\n",
       "      <td>161092.190</td>\n",
       "      <td>14.412</td>\n",
       "    </tr>\n",
       "    <tr>\n",
       "      <th>std</th>\n",
       "      <td>530758653619370.312</td>\n",
       "      <td>156.865</td>\n",
       "      <td>49956.383</td>\n",
       "      <td>24.769</td>\n",
       "    </tr>\n",
       "    <tr>\n",
       "      <th>min</th>\n",
       "      <td>191.000</td>\n",
       "      <td>56.000</td>\n",
       "      <td>307.000</td>\n",
       "      <td>0.000</td>\n",
       "    </tr>\n",
       "    <tr>\n",
       "      <th>25%</th>\n",
       "      <td>4843798878.000</td>\n",
       "      <td>72.000</td>\n",
       "      <td>138236.000</td>\n",
       "      <td>4.590</td>\n",
       "    </tr>\n",
       "    <tr>\n",
       "      <th>50%</th>\n",
       "      <td>10157908607.000</td>\n",
       "      <td>407.000</td>\n",
       "      <td>188845.000</td>\n",
       "      <td>8.900</td>\n",
       "    </tr>\n",
       "    <tr>\n",
       "      <th>75%</th>\n",
       "      <td>50836412672.000</td>\n",
       "      <td>410.000</td>\n",
       "      <td>196055.000</td>\n",
       "      <td>15.900</td>\n",
       "    </tr>\n",
       "    <tr>\n",
       "      <th>max</th>\n",
       "      <td>6298976533617329.000</td>\n",
       "      <td>417.000</td>\n",
       "      <td>198458.000</td>\n",
       "      <td>1548.030</td>\n",
       "    </tr>\n",
       "  </tbody>\n",
       "</table>\n",
       "</div>"
      ],
      "text/plain": [
       "               CUSTOMER_ID  STORE_ID  PRODUCT_ID    AMOUNT\n",
       "count            92294.000 92294.000   92294.000 92294.000\n",
       "mean    45071670956583.531   308.693  161092.190    14.412\n",
       "std    530758653619370.312   156.865   49956.383    24.769\n",
       "min                191.000    56.000     307.000     0.000\n",
       "25%         4843798878.000    72.000  138236.000     4.590\n",
       "50%        10157908607.000   407.000  188845.000     8.900\n",
       "75%        50836412672.000   410.000  196055.000    15.900\n",
       "max   6298976533617329.000   417.000  198458.000  1548.030"
      ]
     },
     "execution_count": 297,
     "metadata": {},
     "output_type": "execute_result"
    }
   ],
   "source": [
    "#Retirar notação científica\n",
    "pd.set_option('display.float_format', lambda x: '%.3f' % x)\n",
    "\n",
    "df.describe()"
   ]
  },
  {
   "cell_type": "code",
   "execution_count": 298,
   "metadata": {
    "colab": {
     "base_uri": "https://localhost:8080/"
    },
    "id": "51f62757",
    "outputId": "1a0f737f-61bd-4a84-c7eb-e08744d163b6"
   },
   "outputs": [
    {
     "data": {
      "text/plain": [
       "CUSTOMER_ID      int64\n",
       "STORE_ID         int64\n",
       "PRODUCT_ID       int64\n",
       "AMOUNT         float64\n",
       "DATE            object\n",
       "dtype: object"
      ]
     },
     "execution_count": 298,
     "metadata": {},
     "output_type": "execute_result"
    }
   ],
   "source": [
    "df.dtypes"
   ]
  },
  {
   "cell_type": "code",
   "execution_count": 299,
   "metadata": {
    "colab": {
     "base_uri": "https://localhost:8080/"
    },
    "id": "c3c37956",
    "outputId": "4e3b9dfb-12bb-4ba2-e2d1-d8dbc21e2315"
   },
   "outputs": [
    {
     "data": {
      "text/plain": [
       "(92294, 5)"
      ]
     },
     "execution_count": 299,
     "metadata": {},
     "output_type": "execute_result"
    }
   ],
   "source": [
    "df.shape"
   ]
  },
  {
   "cell_type": "code",
   "execution_count": 300,
   "metadata": {
    "colab": {
     "base_uri": "https://localhost:8080/"
    },
    "id": "da07b40b",
    "outputId": "07b73075-6614-4b81-83ce-805deae7891d"
   },
   "outputs": [
    {
     "data": {
      "text/plain": [
       "CUSTOMER_ID    0\n",
       "STORE_ID       0\n",
       "PRODUCT_ID     0\n",
       "AMOUNT         0\n",
       "DATE           0\n",
       "dtype: int64"
      ]
     },
     "execution_count": 300,
     "metadata": {},
     "output_type": "execute_result"
    }
   ],
   "source": [
    "df.isnull().sum()"
   ]
  },
  {
   "cell_type": "code",
   "execution_count": 301,
   "metadata": {},
   "outputs": [
    {
     "name": "stderr",
     "output_type": "stream",
     "text": [
      "<ipython-input-301-61013332d520>:4: SettingWithCopyWarning: \n",
      "A value is trying to be set on a copy of a slice from a DataFrame.\n",
      "Try using .loc[row_indexer,col_indexer] = value instead\n",
      "\n",
      "See the caveats in the documentation: https://pandas.pydata.org/pandas-docs/stable/user_guide/indexing.html#returning-a-view-versus-a-copy\n",
      "  df_aux['DATE'] = df_aux['DATE'].astype('datetime64')\n",
      "<ipython-input-301-61013332d520>:5: SettingWithCopyWarning: \n",
      "A value is trying to be set on a copy of a slice from a DataFrame.\n",
      "Try using .loc[row_indexer,col_indexer] = value instead\n",
      "\n",
      "See the caveats in the documentation: https://pandas.pydata.org/pandas-docs/stable/user_guide/indexing.html#returning-a-view-versus-a-copy\n",
      "  df_aux['STORE_ID'] = df_aux['STORE_ID'].astype('int64')\n",
      "<ipython-input-301-61013332d520>:6: SettingWithCopyWarning: \n",
      "A value is trying to be set on a copy of a slice from a DataFrame.\n",
      "Try using .loc[row_indexer,col_indexer] = value instead\n",
      "\n",
      "See the caveats in the documentation: https://pandas.pydata.org/pandas-docs/stable/user_guide/indexing.html#returning-a-view-versus-a-copy\n",
      "  df_aux['PRODUCT_ID'] = df_aux['PRODUCT_ID'].astype('int64')\n",
      "<ipython-input-301-61013332d520>:7: SettingWithCopyWarning: \n",
      "A value is trying to be set on a copy of a slice from a DataFrame.\n",
      "Try using .loc[row_indexer,col_indexer] = value instead\n",
      "\n",
      "See the caveats in the documentation: https://pandas.pydata.org/pandas-docs/stable/user_guide/indexing.html#returning-a-view-versus-a-copy\n",
      "  df_aux['AMOUNT'] = df_aux['AMOUNT'].astype('float64')\n"
     ]
    },
    {
     "data": {
      "text/html": [
       "<div>\n",
       "<style scoped>\n",
       "    .dataframe tbody tr th:only-of-type {\n",
       "        vertical-align: middle;\n",
       "    }\n",
       "\n",
       "    .dataframe tbody tr th {\n",
       "        vertical-align: top;\n",
       "    }\n",
       "\n",
       "    .dataframe thead th {\n",
       "        text-align: right;\n",
       "    }\n",
       "</style>\n",
       "<table border=\"1\" class=\"dataframe\">\n",
       "  <thead>\n",
       "    <tr style=\"text-align: right;\">\n",
       "      <th></th>\n",
       "      <th>STORE_ID</th>\n",
       "      <th>PRODUCT_ID</th>\n",
       "      <th>AMOUNT</th>\n",
       "      <th>MES</th>\n",
       "      <th>ANO</th>\n",
       "    </tr>\n",
       "    <tr>\n",
       "      <th>DATE</th>\n",
       "      <th></th>\n",
       "      <th></th>\n",
       "      <th></th>\n",
       "      <th></th>\n",
       "      <th></th>\n",
       "    </tr>\n",
       "  </thead>\n",
       "  <tbody>\n",
       "    <tr>\n",
       "      <th>2020-01-01 00:14:41</th>\n",
       "      <td>409</td>\n",
       "      <td>196282</td>\n",
       "      <td>8.980</td>\n",
       "      <td>2020-01-01</td>\n",
       "      <td>2020-01-01</td>\n",
       "    </tr>\n",
       "    <tr>\n",
       "      <th>2020-01-01 00:10:16</th>\n",
       "      <td>62</td>\n",
       "      <td>136956</td>\n",
       "      <td>0.000</td>\n",
       "      <td>2020-01-01</td>\n",
       "      <td>2020-01-01</td>\n",
       "    </tr>\n",
       "    <tr>\n",
       "      <th>2020-01-01 00:08:29</th>\n",
       "      <td>408</td>\n",
       "      <td>329</td>\n",
       "      <td>9.980</td>\n",
       "      <td>2020-01-01</td>\n",
       "      <td>2020-01-01</td>\n",
       "    </tr>\n",
       "    <tr>\n",
       "      <th>2020-01-01 00:06:10</th>\n",
       "      <td>405</td>\n",
       "      <td>104089</td>\n",
       "      <td>7.990</td>\n",
       "      <td>2020-01-01</td>\n",
       "      <td>2020-01-01</td>\n",
       "    </tr>\n",
       "    <tr>\n",
       "      <th>2020-01-01 00:05:30</th>\n",
       "      <td>62</td>\n",
       "      <td>196180</td>\n",
       "      <td>11.960</td>\n",
       "      <td>2020-01-01</td>\n",
       "      <td>2020-01-01</td>\n",
       "    </tr>\n",
       "    <tr>\n",
       "      <th>...</th>\n",
       "      <td>...</td>\n",
       "      <td>...</td>\n",
       "      <td>...</td>\n",
       "      <td>...</td>\n",
       "      <td>...</td>\n",
       "    </tr>\n",
       "    <tr>\n",
       "      <th>2019-11-08 10:29:32</th>\n",
       "      <td>417</td>\n",
       "      <td>160178</td>\n",
       "      <td>2.150</td>\n",
       "      <td>2019-11-01</td>\n",
       "      <td>2019-01-01</td>\n",
       "    </tr>\n",
       "    <tr>\n",
       "      <th>2019-11-08 10:29:22</th>\n",
       "      <td>405</td>\n",
       "      <td>194991</td>\n",
       "      <td>2.990</td>\n",
       "      <td>2019-11-01</td>\n",
       "      <td>2019-01-01</td>\n",
       "    </tr>\n",
       "    <tr>\n",
       "      <th>2019-11-08 10:27:06</th>\n",
       "      <td>415</td>\n",
       "      <td>185621</td>\n",
       "      <td>4.300</td>\n",
       "      <td>2019-11-01</td>\n",
       "      <td>2019-01-01</td>\n",
       "    </tr>\n",
       "    <tr>\n",
       "      <th>2019-11-08 10:16:58</th>\n",
       "      <td>65</td>\n",
       "      <td>193506</td>\n",
       "      <td>6.290</td>\n",
       "      <td>2019-11-01</td>\n",
       "      <td>2019-01-01</td>\n",
       "    </tr>\n",
       "    <tr>\n",
       "      <th>2019-11-08 10:15:54</th>\n",
       "      <td>410</td>\n",
       "      <td>189504</td>\n",
       "      <td>39.900</td>\n",
       "      <td>2019-11-01</td>\n",
       "      <td>2019-01-01</td>\n",
       "    </tr>\n",
       "  </tbody>\n",
       "</table>\n",
       "<p>92294 rows × 5 columns</p>\n",
       "</div>"
      ],
      "text/plain": [
       "                     STORE_ID  PRODUCT_ID  AMOUNT        MES        ANO\n",
       "DATE                                                                   \n",
       "2020-01-01 00:14:41       409      196282   8.980 2020-01-01 2020-01-01\n",
       "2020-01-01 00:10:16        62      136956   0.000 2020-01-01 2020-01-01\n",
       "2020-01-01 00:08:29       408         329   9.980 2020-01-01 2020-01-01\n",
       "2020-01-01 00:06:10       405      104089   7.990 2020-01-01 2020-01-01\n",
       "2020-01-01 00:05:30        62      196180  11.960 2020-01-01 2020-01-01\n",
       "...                       ...         ...     ...        ...        ...\n",
       "2019-11-08 10:29:32       417      160178   2.150 2019-11-01 2019-01-01\n",
       "2019-11-08 10:29:22       405      194991   2.990 2019-11-01 2019-01-01\n",
       "2019-11-08 10:27:06       415      185621   4.300 2019-11-01 2019-01-01\n",
       "2019-11-08 10:16:58        65      193506   6.290 2019-11-01 2019-01-01\n",
       "2019-11-08 10:15:54       410      189504  39.900 2019-11-01 2019-01-01\n",
       "\n",
       "[92294 rows x 5 columns]"
      ]
     },
     "execution_count": 301,
     "metadata": {},
     "output_type": "execute_result"
    }
   ],
   "source": [
    "# CRIANDO DF_AUX\n",
    "df_aux = df[['DATE','STORE_ID','PRODUCT_ID','AMOUNT']]\n",
    "# Ajustando dtypes\n",
    "df_aux['DATE'] = df_aux['DATE'].astype('datetime64')\n",
    "df_aux['STORE_ID'] = df_aux['STORE_ID'].astype('int64')\n",
    "df_aux['PRODUCT_ID'] = df_aux['PRODUCT_ID'].astype('int64')\n",
    "df_aux['AMOUNT'] = df_aux['AMOUNT'].astype('float64')\n",
    "# Feature Eng\n",
    "#df_aux['MES'] = df_aux['DATE'].dt.month\n",
    "#df_aux['ANO'] = df_aux['DATE'].dt.year\n",
    "df_aux['MES'] =  pd.to_datetime([str(x)[:7]+'-01' for x in df_aux['DATE']])\n",
    "df_aux['ANO'] =  pd.to_datetime([str(x)[:4]+'-01-01' for x in df_aux['DATE']])\n",
    "df_aux.index = df_aux['DATE']\n",
    "del df_aux['DATE']\n",
    "df_aux"
   ]
  },
  {
   "cell_type": "markdown",
   "metadata": {},
   "source": [
    "## Gastos ao longo do tempo "
   ]
  },
  {
   "cell_type": "code",
   "execution_count": 302,
   "metadata": {},
   "outputs": [
    {
     "data": {
      "image/png": "[encoded data removed]",
      "text/plain": [
       "<Figure size 1296x576 with 1 Axes>"
      ]
     },
     "metadata": {
      "needs_background": "light"
     },
     "output_type": "display_data"
    }
   ],
   "source": [
    "df_aux['AMOUNT'].plot(figsize=(18,8));"
   ]
  },
  {
   "cell_type": "markdown",
   "metadata": {},
   "source": [
    "## Faturamento mensal"
   ]
  },
  {
   "cell_type": "code",
   "execution_count": 313,
   "metadata": {},
   "outputs": [
    {
     "data": {
      "text/html": [
       "<div>\n",
       "<style scoped>\n",
       "    .dataframe tbody tr th:only-of-type {\n",
       "        vertical-align: middle;\n",
       "    }\n",
       "\n",
       "    .dataframe tbody tr th {\n",
       "        vertical-align: top;\n",
       "    }\n",
       "\n",
       "    .dataframe thead th {\n",
       "        text-align: right;\n",
       "    }\n",
       "</style>\n",
       "<table border=\"1\" class=\"dataframe\">\n",
       "  <thead>\n",
       "    <tr style=\"text-align: right;\">\n",
       "      <th></th>\n",
       "      <th>AMOUNT</th>\n",
       "    </tr>\n",
       "    <tr>\n",
       "      <th>MES</th>\n",
       "      <th></th>\n",
       "    </tr>\n",
       "  </thead>\n",
       "  <tbody>\n",
       "    <tr>\n",
       "      <th>2019-11-01</th>\n",
       "      <td>529449.520</td>\n",
       "    </tr>\n",
       "    <tr>\n",
       "      <th>2019-12-01</th>\n",
       "      <td>800646.870</td>\n",
       "    </tr>\n",
       "    <tr>\n",
       "      <th>2020-01-01</th>\n",
       "      <td>66.710</td>\n",
       "    </tr>\n",
       "  </tbody>\n",
       "</table>\n",
       "</div>"
      ],
      "text/plain": [
       "               AMOUNT\n",
       "MES                  \n",
       "2019-11-01 529449.520\n",
       "2019-12-01 800646.870\n",
       "2020-01-01     66.710"
      ]
     },
     "execution_count": 313,
     "metadata": {},
     "output_type": "execute_result"
    }
   ],
   "source": [
    "# df_mes\n",
    "df_mes = df_aux[['MES','AMOUNT']].copy()\n",
    "df_mes = df_mes.groupby('MES').sum().reset_index()\n",
    "df_mes.index = df_mes['MES']\n",
    "del df_mes['MES']\n",
    "df_mes"
   ]
  },
  {
   "cell_type": "code",
   "execution_count": 314,
   "metadata": {},
   "outputs": [
    {
     "name": "stdout",
     "output_type": "stream",
     "text": [
      "FATURAMENTO MENSAL\n"
     ]
    },
    {
     "data": {
      "image/png": "[encoded data removed]",
      "text/plain": [
       "<Figure size 1152x360 with 1 Axes>"
      ]
     },
     "metadata": {
      "needs_background": "light"
     },
     "output_type": "display_data"
    },
    {
     "data": {
      "image/png": "[encoded data removed]",
      "text/plain": [
       "<Figure size 1152x576 with 1 Axes>"
      ]
     },
     "metadata": {
      "needs_background": "light"
     },
     "output_type": "display_data"
    }
   ],
   "source": [
    "print('FATURAMENTO MENSAL')\n",
    "df_mes.plot(figsize=(16,5));\n",
    "plt.grid(True)\n",
    "plt.figure(figsize=(16,8))\n",
    "plt.subplot(2,1,2)\n",
    "\n",
    "df_mes = df_mes.reset_index()\n",
    "df_mes['MES'] = df_mes['MES'].astype(str)\n",
    "plt.bar(df_mes['MES'],df_mes['AMOUNT'],data=df_mes, edgecolor=\"black\",linewidth = 1, color = 'salmon', zorder = 3, alpha = 0.9)\n",
    "plt.grid(True, zorder = 0)\n",
    "#plt.title(\"Produtos que mais faturaram (Top 7)\")\n",
    "#plt.xlabel('PRODUCT_ID')\n",
    "plt.show()"
   ]
  },
  {
   "cell_type": "markdown",
   "metadata": {},
   "source": [
    "## Faturamento Anual (Gráfico Enviesado por baixa quantidade de dados em 2020)"
   ]
  },
  {
   "cell_type": "code",
   "execution_count": 305,
   "metadata": {},
   "outputs": [],
   "source": [
    "# df_ano\n",
    "df_ano = df_aux[['ANO','AMOUNT']].copy()\n",
    "df_ano = df_ano.groupby('ANO').sum().reset_index()\n",
    "df_ano.index = df_ano['ANO']\n",
    "del df_ano['ANO']"
   ]
  },
  {
   "cell_type": "code",
   "execution_count": 317,
   "metadata": {},
   "outputs": [
    {
     "name": "stdout",
     "output_type": "stream",
     "text": [
      "FATURAMENTO ANUAL\n"
     ]
    },
    {
     "data": {
      "image/png": "[encoded data removed]",
      "text/plain": [
       "<Figure size 1152x360 with 1 Axes>"
      ]
     },
     "metadata": {
      "needs_background": "light"
     },
     "output_type": "display_data"
    },
    {
     "data": {
      "image/png": "[encoded data removed]",
      "text/plain": [
       "<Figure size 1152x576 with 1 Axes>"
      ]
     },
     "metadata": {
      "needs_background": "light"
     },
     "output_type": "display_data"
    }
   ],
   "source": [
    "# df_ano\n",
    "df_ano = df_aux[['ANO','AMOUNT']].copy()\n",
    "df_ano = df_ano.groupby('ANO').sum().reset_index()\n",
    "df_ano.index = df_ano['ANO']\n",
    "del df_ano['ANO']\n",
    "\n",
    "print('FATURAMENTO ANUAL')\n",
    "\n",
    "df_ano.plot(figsize=(16,5));\n",
    "plt.grid(True)\n",
    "plt.figure(figsize=(16,8))\n",
    "plt.subplot(2,1,2) \n",
    "\n",
    "df_ano = df_ano.reset_index()\n",
    "df_ano['ANO'] = df_ano['ANO'].astype(str)\n",
    "plt.bar(df_ano['ANO'],df_ano['AMOUNT'],data=df_ano, edgecolor=\"black\",linewidth = 1, color = 'salmon', zorder = 3, alpha = 0.9)\n",
    "plt.grid(True, zorder = 0)\n",
    "plt.show()"
   ]
  },
  {
   "cell_type": "markdown",
   "metadata": {},
   "source": [
    "## Faturmento de Produto e Estoque"
   ]
  },
  {
   "cell_type": "code",
   "execution_count": 315,
   "metadata": {},
   "outputs": [
    {
     "data": {
      "image/png": "[encoded data removed]",
      "text/plain": [
       "<Figure size 1152x576 with 1 Axes>"
      ]
     },
     "metadata": {
      "needs_background": "light"
     },
     "output_type": "display_data"
    },
    {
     "data": {
      "image/png": "[encoded data removed]",
      "text/plain": [
       "<Figure size 1152x576 with 1 Axes>"
      ]
     },
     "metadata": {
      "needs_background": "light"
     },
     "output_type": "display_data"
    },
    {
     "name": "stdout",
     "output_type": "stream",
     "text": [
      "\n",
      "\n",
      "\n"
     ]
    }
   ],
   "source": [
    "# df_mes_product\n",
    "df_mes_product = df_aux[['MES','PRODUCT_ID','AMOUNT']].copy()\n",
    "df_mes_product = df_mes_product.groupby(['MES','PRODUCT_ID']).sum().reset_index()\n",
    "df_mes_product.index = [i for i in range(len(df_mes_product))]\n",
    "df_mes_product['PRODUCT_ID'] = df_mes_product['PRODUCT_ID'].astype(str)\n",
    "del df_mes_product['MES']\n",
    "\n",
    "df_sorted_desc = df_mes_product.groupby('PRODUCT_ID').sum().reset_index().sort_values('AMOUNT',ascending=False).iloc[:7]\n",
    "\n",
    "plt.figure(figsize=(16,8))\n",
    "plt.subplot(2,1,2) \n",
    "plt.bar(df_sorted_desc['PRODUCT_ID'],df_sorted_desc['AMOUNT'],data=df_sorted_desc, edgecolor=\"black\",linewidth = 1, color = 'salmon', zorder = 3, alpha = 0.9)\n",
    "plt.grid(True, zorder = 0)\n",
    "plt.title(\"Produtos que mais faturaram (Top 7)\")\n",
    "plt.xlabel('PRODUCT_ID')\n",
    "plt.show()\n",
    "\n",
    "\n",
    "# df_mes_product\n",
    "df_mes_store = df_aux[['MES','STORE_ID','AMOUNT']].copy()\n",
    "df_mes_store = df_mes_store.groupby(['MES','STORE_ID']).sum().reset_index()\n",
    "df_mes_store.index = [i for i in range(len(df_mes_store))]\n",
    "df_mes_store['STORE_ID'] = df_mes_store['STORE_ID'].astype(str)\n",
    "del df_mes_store['MES']\n",
    "\n",
    "df_sorted_desc = df_mes_store.groupby('STORE_ID').sum().reset_index().sort_values('AMOUNT',ascending=False).iloc[:7]\n",
    "\n",
    "plt.figure(figsize=(16,8))\n",
    "plt.subplot(2,1,2) \n",
    "plt.bar(df_sorted_desc['STORE_ID'],df_sorted_desc['AMOUNT'],data=df_sorted_desc, edgecolor=\"black\",linewidth = 1, color = 'salmon', zorder = 3, alpha = 0.9)\n",
    "plt.grid(True, zorder = 0)\n",
    "plt.title(\"Estoques com melhores faturamentos (Top 7)\")\n",
    "plt.xlabel('STORE_ID')\n",
    "plt.show()\n",
    "\n",
    "print('\\n\\n')"
   ]
  },
  {
   "cell_type": "markdown",
   "metadata": {},
   "source": [
    "## Iniciação do tratamento das Features"
   ]
  },
  {
   "cell_type": "markdown",
   "metadata": {
    "id": "q6ornrWBllLO"
   },
   "source": [
    "<br>\n",
    "\n",
    "\n",
    "#### 1- Criação das Features RFV \n",
    "\n",
    "<br>\n",
    "\n",
    "Definição RFV:  RFV (ou RFM em algumas literaturas) entende-se como Recência, Freqüência e Valor monetário do cliente. Recência como uma medida de quanto tempo se passou desde a última transação com a empresa. Freqüência como uma medida de quão freqüente um cliente efetua transações. E Valor Monetário como o gasto médio feito por transação. Estratégias baseadas em RFV buscam métricas ou regras para avaliar o comportamento e valor do cliente para a empresa.\n",
    "\n",
    "<br>\n",
    "<br>"
   ]
  },
  {
   "cell_type": "code",
   "execution_count": 59,
   "metadata": {
    "id": "kZt9OCa3Hqws"
   },
   "outputs": [],
   "source": [
    "df_filter = df.copy()"
   ]
  },
  {
   "cell_type": "code",
   "execution_count": 60,
   "metadata": {},
   "outputs": [
    {
     "data": {
      "text/plain": [
       "Index(['CUSTOMER_ID', 'STORE_ID', 'PRODUCT_ID', 'AMOUNT', 'DATE'], dtype='object')"
      ]
     },
     "execution_count": 60,
     "metadata": {},
     "output_type": "execute_result"
    }
   ],
   "source": [
    "df_filter.columns"
   ]
  },
  {
   "cell_type": "markdown",
   "metadata": {},
   "source": [
    "### Criação da Feature \"Recência\""
   ]
  },
  {
   "cell_type": "code",
   "execution_count": 61,
   "metadata": {
    "id": "v-eDgbxElr3j"
   },
   "outputs": [
    {
     "data": {
      "text/plain": [
       "0        2020-01-01\n",
       "1        2020-01-01\n",
       "2        2020-01-01\n",
       "3        2020-01-01\n",
       "4        2020-01-01\n",
       "            ...    \n",
       "92289    2019-08-11\n",
       "92290    2019-08-11\n",
       "92291    2019-08-11\n",
       "92292    2019-08-11\n",
       "92293    2019-08-11\n",
       "Name: DATE, Length: 92294, dtype: object"
      ]
     },
     "execution_count": 61,
     "metadata": {},
     "output_type": "execute_result"
    }
   ],
   "source": [
    "# criando Feature \"Recência\" (tempo se passou desde a última transação com a empresa)\n",
    "df_filter[\"DATE\"] = pd.to_datetime(df_filter[\"DATE\"], dayfirst=True).dt.date\n",
    "df_filter[\"DATE\"]"
   ]
  },
  {
   "cell_type": "code",
   "execution_count": 63,
   "metadata": {},
   "outputs": [],
   "source": [
    "df_filter[\"Recencia_dias\"] = (date.today() - df_filter[\"DATE\"])\n",
    "\n",
    "def remove_string(x):\n",
    "    \n",
    "    # Lib \"RE\", para dar replace em padrões textuais\n",
    "    string = str(x)\n",
    "    str_clean = re.sub(\"days\", \"\", string)\n",
    "\n",
    "    return str_clean\n",
    "\n",
    "\n",
    "df_filter[\"Recencia_dias\"] = df_filter[\"Recencia_dias\"].astype(str)\n",
    "df_filter[\"Recencia_dias\"] = df_filter[\"Recencia_dias\"].apply(lambda x: remove_string(x))\n",
    "df_filter[\"Recencia_dias\"] = df_filter[\"Recencia_dias\"].astype(np.int64)"
   ]
  },
  {
   "cell_type": "code",
   "execution_count": 70,
   "metadata": {},
   "outputs": [],
   "source": [
    "def remove_space(x):\n",
    "    string = str(x)\n",
    "    string = string.strip()\n",
    "    return string"
   ]
  },
  {
   "cell_type": "code",
   "execution_count": 71,
   "metadata": {},
   "outputs": [],
   "source": [
    "df_filter[\"DATE\"] = df_filter[\"DATE\"].apply(lambda x: remove_space(x))"
   ]
  },
  {
   "cell_type": "code",
   "execution_count": 72,
   "metadata": {},
   "outputs": [
    {
     "data": {
      "text/plain": [
       "0        2020-01-01\n",
       "1        2020-01-01\n",
       "2        2020-01-01\n",
       "3        2020-01-01\n",
       "4        2020-01-01\n",
       "            ...    \n",
       "92289    2019-08-11\n",
       "92290    2019-08-11\n",
       "92291    2019-08-11\n",
       "92292    2019-08-11\n",
       "92293    2019-08-11\n",
       "Name: DATE, Length: 92294, dtype: object"
      ]
     },
     "execution_count": 72,
     "metadata": {},
     "output_type": "execute_result"
    }
   ],
   "source": [
    "df_filter[\"DATE\"]"
   ]
  },
  {
   "cell_type": "markdown",
   "metadata": {},
   "source": [
    "### Criação da Feature \"Frequência\""
   ]
  },
  {
   "cell_type": "code",
   "execution_count": 73,
   "metadata": {
    "id": "siSRdBWQIeL_"
   },
   "outputs": [],
   "source": [
    "# criando feature \"frequência\" \n",
    "df_filter.rename(columns={\"DATE\":\"Frequencia\"}, inplace=True)"
   ]
  },
  {
   "cell_type": "code",
   "execution_count": 74,
   "metadata": {},
   "outputs": [
    {
     "data": {
      "text/plain": [
       "Index(['CUSTOMER_ID', 'STORE_ID', 'PRODUCT_ID', 'AMOUNT', 'Frequencia',\n",
       "       'Recencia_dias'],\n",
       "      dtype='object')"
      ]
     },
     "execution_count": 74,
     "metadata": {},
     "output_type": "execute_result"
    }
   ],
   "source": [
    "df_filter.columns"
   ]
  },
  {
   "cell_type": "code",
   "execution_count": 75,
   "metadata": {},
   "outputs": [
    {
     "data": {
      "text/html": [
       "<div>\n",
       "<style scoped>\n",
       "    .dataframe tbody tr th:only-of-type {\n",
       "        vertical-align: middle;\n",
       "    }\n",
       "\n",
       "    .dataframe tbody tr th {\n",
       "        vertical-align: top;\n",
       "    }\n",
       "\n",
       "    .dataframe thead th {\n",
       "        text-align: right;\n",
       "    }\n",
       "</style>\n",
       "<table border=\"1\" class=\"dataframe\">\n",
       "  <thead>\n",
       "    <tr style=\"text-align: right;\">\n",
       "      <th></th>\n",
       "      <th>CUSTOMER_ID</th>\n",
       "      <th>STORE_ID</th>\n",
       "      <th>AMOUNT</th>\n",
       "      <th>Recencia_dias</th>\n",
       "    </tr>\n",
       "  </thead>\n",
       "  <tbody>\n",
       "    <tr>\n",
       "      <th>10869</th>\n",
       "      <td>4044160635</td>\n",
       "      <td>56</td>\n",
       "      <td>3953.030</td>\n",
       "      <td>12760</td>\n",
       "    </tr>\n",
       "    <tr>\n",
       "      <th>24956</th>\n",
       "      <td>8798896679</td>\n",
       "      <td>409</td>\n",
       "      <td>2210.150</td>\n",
       "      <td>128577</td>\n",
       "    </tr>\n",
       "    <tr>\n",
       "      <th>46882</th>\n",
       "      <td>70251037649</td>\n",
       "      <td>408</td>\n",
       "      <td>1887.300</td>\n",
       "      <td>1987</td>\n",
       "    </tr>\n",
       "    <tr>\n",
       "      <th>49302</th>\n",
       "      <td>80044514620</td>\n",
       "      <td>415</td>\n",
       "      <td>1828.940</td>\n",
       "      <td>22588</td>\n",
       "    </tr>\n",
       "    <tr>\n",
       "      <th>15365</th>\n",
       "      <td>5421239675</td>\n",
       "      <td>71</td>\n",
       "      <td>1755.200</td>\n",
       "      <td>2182</td>\n",
       "    </tr>\n",
       "    <tr>\n",
       "      <th>...</th>\n",
       "      <td>...</td>\n",
       "      <td>...</td>\n",
       "      <td>...</td>\n",
       "      <td>...</td>\n",
       "    </tr>\n",
       "    <tr>\n",
       "      <th>43667</th>\n",
       "      <td>57495106620</td>\n",
       "      <td>56</td>\n",
       "      <td>0.000</td>\n",
       "      <td>668</td>\n",
       "    </tr>\n",
       "    <tr>\n",
       "      <th>43745</th>\n",
       "      <td>57765561634</td>\n",
       "      <td>57</td>\n",
       "      <td>0.000</td>\n",
       "      <td>665</td>\n",
       "    </tr>\n",
       "    <tr>\n",
       "      <th>7221</th>\n",
       "      <td>3006105648</td>\n",
       "      <td>58</td>\n",
       "      <td>0.000</td>\n",
       "      <td>627</td>\n",
       "    </tr>\n",
       "    <tr>\n",
       "      <th>43855</th>\n",
       "      <td>58161287600</td>\n",
       "      <td>73</td>\n",
       "      <td>0.000</td>\n",
       "      <td>633</td>\n",
       "    </tr>\n",
       "    <tr>\n",
       "      <th>11240</th>\n",
       "      <td>4146782651</td>\n",
       "      <td>64</td>\n",
       "      <td>0.000</td>\n",
       "      <td>919</td>\n",
       "    </tr>\n",
       "  </tbody>\n",
       "</table>\n",
       "<p>54899 rows × 4 columns</p>\n",
       "</div>"
      ],
      "text/plain": [
       "       CUSTOMER_ID  STORE_ID   AMOUNT  Recencia_dias\n",
       "10869   4044160635        56 3953.030          12760\n",
       "24956   8798896679       409 2210.150         128577\n",
       "46882  70251037649       408 1887.300           1987\n",
       "49302  80044514620       415 1828.940          22588\n",
       "15365   5421239675        71 1755.200           2182\n",
       "...            ...       ...      ...            ...\n",
       "43667  57495106620        56    0.000            668\n",
       "43745  57765561634        57    0.000            665\n",
       "7221    3006105648        58    0.000            627\n",
       "43855  58161287600        73    0.000            633\n",
       "11240   4146782651        64    0.000            919\n",
       "\n",
       "[54899 rows x 4 columns]"
      ]
     },
     "execution_count": 75,
     "metadata": {},
     "output_type": "execute_result"
    }
   ],
   "source": [
    "df_filter_grouped = df_filter.groupby(by = ['CUSTOMER_ID','STORE_ID']).agg({'AMOUNT': 'sum', 'Recencia_dias': 'sum'}).reset_index().sort_values(by = ['AMOUNT'],ascending = False)\n",
    "df_filter_grouped"
   ]
  },
  {
   "cell_type": "code",
   "execution_count": 128,
   "metadata": {},
   "outputs": [
    {
     "data": {
      "text/html": [
       "<div>\n",
       "<style scoped>\n",
       "    .dataframe tbody tr th:only-of-type {\n",
       "        vertical-align: middle;\n",
       "    }\n",
       "\n",
       "    .dataframe tbody tr th {\n",
       "        vertical-align: top;\n",
       "    }\n",
       "\n",
       "    .dataframe thead th {\n",
       "        text-align: right;\n",
       "    }\n",
       "</style>\n",
       "<table border=\"1\" class=\"dataframe\">\n",
       "  <thead>\n",
       "    <tr style=\"text-align: right;\">\n",
       "      <th></th>\n",
       "      <th>CUSTOMER_ID</th>\n",
       "      <th>STORE_ID</th>\n",
       "      <th>Frequencia</th>\n",
       "      <th>AMOUNT</th>\n",
       "      <th>Recencia_dias</th>\n",
       "    </tr>\n",
       "  </thead>\n",
       "  <tbody>\n",
       "    <tr>\n",
       "      <th>43812</th>\n",
       "      <td>14094142649</td>\n",
       "      <td>56</td>\n",
       "      <td>2019-12-23</td>\n",
       "      <td>665.190</td>\n",
       "      <td>24</td>\n",
       "    </tr>\n",
       "    <tr>\n",
       "      <th>23300</th>\n",
       "      <td>5988542662</td>\n",
       "      <td>414</td>\n",
       "      <td>2019-12-12</td>\n",
       "      <td>559.160</td>\n",
       "      <td>22</td>\n",
       "    </tr>\n",
       "    <tr>\n",
       "      <th>14987</th>\n",
       "      <td>4044160635</td>\n",
       "      <td>56</td>\n",
       "      <td>2019-12-18</td>\n",
       "      <td>3953.030</td>\n",
       "      <td>20</td>\n",
       "    </tr>\n",
       "    <tr>\n",
       "      <th>33536</th>\n",
       "      <td>8798896679</td>\n",
       "      <td>409</td>\n",
       "      <td>2019-01-12</td>\n",
       "      <td>268.160</td>\n",
       "      <td>17</td>\n",
       "    </tr>\n",
       "    <tr>\n",
       "      <th>33571</th>\n",
       "      <td>8798898612</td>\n",
       "      <td>409</td>\n",
       "      <td>2019-12-20</td>\n",
       "      <td>255.980</td>\n",
       "      <td>16</td>\n",
       "    </tr>\n",
       "    <tr>\n",
       "      <th>...</th>\n",
       "      <td>...</td>\n",
       "      <td>...</td>\n",
       "      <td>...</td>\n",
       "      <td>...</td>\n",
       "      <td>...</td>\n",
       "    </tr>\n",
       "    <tr>\n",
       "      <th>27413</th>\n",
       "      <td>7003575647</td>\n",
       "      <td>66</td>\n",
       "      <td>2019-12-24</td>\n",
       "      <td>8.380</td>\n",
       "      <td>1</td>\n",
       "    </tr>\n",
       "    <tr>\n",
       "      <th>27414</th>\n",
       "      <td>7003575647</td>\n",
       "      <td>410</td>\n",
       "      <td>2019-05-12</td>\n",
       "      <td>19.900</td>\n",
       "      <td>1</td>\n",
       "    </tr>\n",
       "    <tr>\n",
       "      <th>27415</th>\n",
       "      <td>7003733650</td>\n",
       "      <td>406</td>\n",
       "      <td>2019-11-28</td>\n",
       "      <td>7.890</td>\n",
       "      <td>1</td>\n",
       "    </tr>\n",
       "    <tr>\n",
       "      <th>27416</th>\n",
       "      <td>7003956608</td>\n",
       "      <td>417</td>\n",
       "      <td>2019-12-20</td>\n",
       "      <td>39.900</td>\n",
       "      <td>1</td>\n",
       "    </tr>\n",
       "    <tr>\n",
       "      <th>74835</th>\n",
       "      <td>6298976533617329</td>\n",
       "      <td>408</td>\n",
       "      <td>2019-12-19</td>\n",
       "      <td>29.900</td>\n",
       "      <td>1</td>\n",
       "    </tr>\n",
       "  </tbody>\n",
       "</table>\n",
       "<p>74836 rows × 5 columns</p>\n",
       "</div>"
      ],
      "text/plain": [
       "            CUSTOMER_ID  STORE_ID  Frequencia   AMOUNT  Recencia_dias\n",
       "43812       14094142649        56  2019-12-23  665.190             24\n",
       "23300        5988542662       414  2019-12-12  559.160             22\n",
       "14987        4044160635        56  2019-12-18 3953.030             20\n",
       "33536        8798896679       409  2019-01-12  268.160             17\n",
       "33571        8798898612       409  2019-12-20  255.980             16\n",
       "...                 ...       ...         ...      ...            ...\n",
       "27413        7003575647        66  2019-12-24    8.380              1\n",
       "27414        7003575647       410  2019-05-12   19.900              1\n",
       "27415        7003733650       406  2019-11-28    7.890              1\n",
       "27416        7003956608       417  2019-12-20   39.900              1\n",
       "74835  6298976533617329       408  2019-12-19   29.900              1\n",
       "\n",
       "[74836 rows x 5 columns]"
      ]
     },
     "execution_count": 128,
     "metadata": {},
     "output_type": "execute_result"
    }
   ],
   "source": [
    "df_filter_grouped = df_filter.groupby(by = ['CUSTOMER_ID','STORE_ID', 'Frequencia']).agg({'AMOUNT': 'sum', 'Recencia_dias': 'count'}).reset_index().sort_values(by = ['Recencia_dias'],ascending = False)\n",
    "df_filter_grouped"
   ]
  },
  {
   "cell_type": "markdown",
   "metadata": {},
   "source": [
    "### Criação da Feature \"Valor\""
   ]
  },
  {
   "cell_type": "code",
   "execution_count": 129,
   "metadata": {
    "id": "Ayxao15xP6nN"
   },
   "outputs": [],
   "source": [
    "# criando feature de \"valor\"\n",
    "\n",
    "def value_function(row):\n",
    "\n",
    "  \n",
    "    if row[\"AMOUNT\"] >= 0 and row[\"AMOUNT\"] <= 50:\n",
    "          return 0\n",
    "            \n",
    "    if row[\"AMOUNT\"] >= 51 and row[\"AMOUNT\"] <= 100:\n",
    "          return 1 \n",
    "            \n",
    "    if row[\"AMOUNT\"] >= 101 and row[\"AMOUNT\"] <= 200:\n",
    "          return 2 \n",
    "            \n",
    "    if row[\"AMOUNT\"] >= 201 and row[\"AMOUNT\"] <= 300:\n",
    "          return 3 \n",
    "            \n",
    "    if row[\"AMOUNT\"] >= 301 and row[\"AMOUNT\"] <= 400:\n",
    "          return 4 \n",
    "    \n",
    "    if row[\"AMOUNT\"] >= 401:\n",
    "          return 5 \n",
    "\n",
    "    else:\n",
    "        return 0\n",
    "\n",
    "    return value \n",
    "\n",
    "\n",
    "\n",
    "\n",
    "# criando feature Valor \n",
    "df_filter_grouped[\"Valor\"] = df_filter_grouped.apply(lambda row: value_function(row), axis=1)\n",
    "#df_filter[\"Valor\"].replace(np.nan, 0, inplace=True)"
   ]
  },
  {
   "cell_type": "code",
   "execution_count": 130,
   "metadata": {},
   "outputs": [
    {
     "data": {
      "text/plain": [
       "0    70737\n",
       "1     3040\n",
       "2      809\n",
       "3      157\n",
       "5       51\n",
       "4       42\n",
       "Name: Valor, dtype: int64"
      ]
     },
     "execution_count": 130,
     "metadata": {},
     "output_type": "execute_result"
    }
   ],
   "source": [
    "df_filter_grouped[\"Valor\"].value_counts()"
   ]
  },
  {
   "cell_type": "markdown",
   "metadata": {},
   "source": [
    "## Jogando as Features que serão utilizadas para um novo DataFrame"
   ]
  },
  {
   "cell_type": "code",
   "execution_count": 169,
   "metadata": {
    "id": "uAwpNHRzWbF4"
   },
   "outputs": [],
   "source": [
    "df = df_filter_grouped[[\"CUSTOMER_ID\",\"Frequencia\", \"Recencia_dias\", 'Valor']]"
   ]
  },
  {
   "cell_type": "code",
   "execution_count": 170,
   "metadata": {
    "colab": {
     "base_uri": "https://localhost:8080/",
     "height": 203
    },
    "id": "b0g29IdIWjmG",
    "outputId": "ae258086-eb99-41e6-b1c9-e50d050857f2"
   },
   "outputs": [
    {
     "data": {
      "text/html": [
       "<div>\n",
       "<style scoped>\n",
       "    .dataframe tbody tr th:only-of-type {\n",
       "        vertical-align: middle;\n",
       "    }\n",
       "\n",
       "    .dataframe tbody tr th {\n",
       "        vertical-align: top;\n",
       "    }\n",
       "\n",
       "    .dataframe thead th {\n",
       "        text-align: right;\n",
       "    }\n",
       "</style>\n",
       "<table border=\"1\" class=\"dataframe\">\n",
       "  <thead>\n",
       "    <tr style=\"text-align: right;\">\n",
       "      <th></th>\n",
       "      <th>CUSTOMER_ID</th>\n",
       "      <th>Frequencia</th>\n",
       "      <th>Recencia_dias</th>\n",
       "      <th>Valor</th>\n",
       "    </tr>\n",
       "  </thead>\n",
       "  <tbody>\n",
       "    <tr>\n",
       "      <th>43812</th>\n",
       "      <td>14094142649</td>\n",
       "      <td>2019-12-23</td>\n",
       "      <td>24</td>\n",
       "      <td>5</td>\n",
       "    </tr>\n",
       "    <tr>\n",
       "      <th>23300</th>\n",
       "      <td>5988542662</td>\n",
       "      <td>2019-12-12</td>\n",
       "      <td>22</td>\n",
       "      <td>5</td>\n",
       "    </tr>\n",
       "    <tr>\n",
       "      <th>14987</th>\n",
       "      <td>4044160635</td>\n",
       "      <td>2019-12-18</td>\n",
       "      <td>20</td>\n",
       "      <td>5</td>\n",
       "    </tr>\n",
       "    <tr>\n",
       "      <th>33536</th>\n",
       "      <td>8798896679</td>\n",
       "      <td>2019-01-12</td>\n",
       "      <td>17</td>\n",
       "      <td>3</td>\n",
       "    </tr>\n",
       "    <tr>\n",
       "      <th>33571</th>\n",
       "      <td>8798898612</td>\n",
       "      <td>2019-12-20</td>\n",
       "      <td>16</td>\n",
       "      <td>3</td>\n",
       "    </tr>\n",
       "  </tbody>\n",
       "</table>\n",
       "</div>"
      ],
      "text/plain": [
       "       CUSTOMER_ID  Frequencia  Recencia_dias  Valor\n",
       "43812  14094142649  2019-12-23             24      5\n",
       "23300   5988542662  2019-12-12             22      5\n",
       "14987   4044160635  2019-12-18             20      5\n",
       "33536   8798896679  2019-01-12             17      3\n",
       "33571   8798898612  2019-12-20             16      3"
      ]
     },
     "execution_count": 170,
     "metadata": {},
     "output_type": "execute_result"
    }
   ],
   "source": [
    "df.head()"
   ]
  },
  {
   "cell_type": "code",
   "execution_count": 171,
   "metadata": {
    "colab": {
     "base_uri": "https://localhost:8080/"
    },
    "id": "CEv3rPCLXFCK",
    "outputId": "b8963cd7-4ae0-48f2-a43a-c8f7efdbc315"
   },
   "outputs": [
    {
     "data": {
      "text/plain": [
       "CUSTOMER_ID       int64\n",
       "Frequencia       object\n",
       "Recencia_dias     int64\n",
       "Valor             int64\n",
       "dtype: object"
      ]
     },
     "execution_count": 171,
     "metadata": {},
     "output_type": "execute_result"
    }
   ],
   "source": [
    "df.dtypes"
   ]
  },
  {
   "cell_type": "code",
   "execution_count": 172,
   "metadata": {},
   "outputs": [
    {
     "name": "stderr",
     "output_type": "stream",
     "text": [
      "<ipython-input-172-82d0b5fc527a>:1: SettingWithCopyWarning: \n",
      "A value is trying to be set on a copy of a slice from a DataFrame.\n",
      "Try using .loc[row_indexer,col_indexer] = value instead\n",
      "\n",
      "See the caveats in the documentation: https://pandas.pydata.org/pandas-docs/stable/user_guide/indexing.html#returning-a-view-versus-a-copy\n",
      "  df['Frequencia'] = pd.to_datetime(df['Frequencia'])\n"
     ]
    }
   ],
   "source": [
    "df['Frequencia'] = pd.to_datetime(df['Frequencia'])"
   ]
  },
  {
   "cell_type": "code",
   "execution_count": 173,
   "metadata": {},
   "outputs": [
    {
     "name": "stderr",
     "output_type": "stream",
     "text": [
      "<ipython-input-173-329acf9ef13a>:1: SettingWithCopyWarning: \n",
      "A value is trying to be set on a copy of a slice from a DataFrame.\n",
      "Try using .loc[row_indexer,col_indexer] = value instead\n",
      "\n",
      "See the caveats in the documentation: https://pandas.pydata.org/pandas-docs/stable/user_guide/indexing.html#returning-a-view-versus-a-copy\n",
      "  df['Frequencia_ano'] = df['Frequencia'].apply(lambda time: time.weekofyear)\n"
     ]
    }
   ],
   "source": [
    "df['Frequencia_ano'] = df['Frequencia'].apply(lambda time: time.weekofyear)"
   ]
  },
  {
   "cell_type": "code",
   "execution_count": 174,
   "metadata": {},
   "outputs": [
    {
     "data": {
      "text/plain": [
       "51    10229\n",
       "48     9955\n",
       "52     8831\n",
       "46     8604\n",
       "47     8265\n",
       "50     6987\n",
       "41     2768\n",
       "37     2697\n",
       "28     2567\n",
       "2      2130\n",
       "24     2011\n",
       "33     1957\n",
       "1      1775\n",
       "11     1267\n",
       "19     1261\n",
       "15     1250\n",
       "32     1175\n",
       "7      1107\n",
       "Name: Frequencia_ano, dtype: int64"
      ]
     },
     "execution_count": 174,
     "metadata": {},
     "output_type": "execute_result"
    }
   ],
   "source": [
    "df['Frequencia_ano'].value_counts()"
   ]
  },
  {
   "cell_type": "markdown",
   "metadata": {},
   "source": [
    "## Iniciando o tratamento/processamento das colunas "
   ]
  },
  {
   "cell_type": "code",
   "execution_count": 272,
   "metadata": {},
   "outputs": [
    {
     "data": {
      "text/plain": [
       "Index(['CUSTOMER_ID', 'Frequencia', 'Recencia_dias', 'Valor',\n",
       "       'Frequencia_ano'],\n",
       "      dtype='object')"
      ]
     },
     "execution_count": 272,
     "metadata": {},
     "output_type": "execute_result"
    }
   ],
   "source": [
    "df.columns"
   ]
  },
  {
   "cell_type": "code",
   "execution_count": 284,
   "metadata": {},
   "outputs": [],
   "source": [
    "X = df.drop(columns = ['CUSTOMER_ID', 'Frequencia', 'Valor'])\n",
    "\n",
    "X = np.array(X)"
   ]
  },
  {
   "cell_type": "code",
   "execution_count": 285,
   "metadata": {
    "colab": {
     "base_uri": "https://localhost:8080/"
    },
    "id": "YcZjwbHgXOPr",
    "outputId": "71236926-4de1-48b6-9afd-dfc89b77c611"
   },
   "outputs": [],
   "source": [
    "from sklearn.preprocessing import StandardScaler\n",
    "\n",
    "scaler = StandardScaler()\n",
    "\n",
    "X_std = scaler.fit_transform(X)"
   ]
  },
  {
   "cell_type": "markdown",
   "metadata": {},
   "source": [
    "# Iniciando a modelagem do K-Means"
   ]
  },
  {
   "cell_type": "markdown",
   "metadata": {},
   "source": [
    "### Pegando o melhor K com o método Elbow"
   ]
  },
  {
   "cell_type": "code",
   "execution_count": 286,
   "metadata": {},
   "outputs": [],
   "source": [
    "inertia = []\n",
    "for n in range(1 , 11):\n",
    "    algorithm = (KMeans(n_clusters = n))\n",
    "    algorithm.fit(X_train)\n",
    "    inertia.append(algorithm.inertia_)"
   ]
  },
  {
   "cell_type": "code",
   "execution_count": 287,
   "metadata": {},
   "outputs": [
    {
     "data": {
      "image/png": "[encoded data removed]",
      "text/plain": [
       "<Figure size 1080x432 with 1 Axes>"
      ]
     },
     "metadata": {
      "needs_background": "light"
     },
     "output_type": "display_data"
    }
   ],
   "source": [
    "# Para decidir o melhor K, é necessário traçar reta na diagonal, do primeiro \n",
    "# até o último K, o que estiver mais longe dela, será o K mais equilibrado\n",
    "plt.figure(1 , figsize = (15 ,6))\n",
    "plt.plot(np.arange(1 , 11) , inertia , 'o')\n",
    "plt.plot(np.arange(1 , 11) , inertia , '-' , alpha = 0.5)\n",
    "plt.grid(True)\n",
    "plt.xlabel('Número de Clusters') , plt.ylabel('Soma das Distâncias Q intra Clusters')\n",
    "plt.show()"
   ]
  },
  {
   "cell_type": "code",
   "execution_count": 277,
   "metadata": {},
   "outputs": [
    {
     "ename": "ValueError",
     "evalue": "X has 2 features, but KMeans is expecting 3 features as input.",
     "output_type": "error",
     "traceback": [
      "\u001b[1;31m---------------------------------------------------------------------------\u001b[0m",
      "\u001b[1;31mValueError\u001b[0m                                Traceback (most recent call last)",
      "\u001b[1;32m<ipython-input-277-f6442ec13b08>\u001b[0m in \u001b[0;36m<module>\u001b[1;34m\u001b[0m\n\u001b[1;32m----> 1\u001b[1;33m \u001b[0mlabel\u001b[0m \u001b[1;33m=\u001b[0m \u001b[0malgorithm\u001b[0m\u001b[1;33m.\u001b[0m\u001b[0mpredict\u001b[0m\u001b[1;33m(\u001b[0m\u001b[0mX\u001b[0m\u001b[1;33m)\u001b[0m\u001b[1;33m\u001b[0m\u001b[1;33m\u001b[0m\u001b[0m\n\u001b[0m\u001b[0;32m      2\u001b[0m \u001b[0mlabel\u001b[0m\u001b[1;33m\u001b[0m\u001b[1;33m\u001b[0m\u001b[0m\n",
      "\u001b[1;32mD:\\Anaconda\\lib\\site-packages\\sklearn\\cluster\\_kmeans.py\u001b[0m in \u001b[0;36mpredict\u001b[1;34m(self, X, sample_weight)\u001b[0m\n\u001b[0;32m   1154\u001b[0m         \u001b[0mcheck_is_fitted\u001b[0m\u001b[1;33m(\u001b[0m\u001b[0mself\u001b[0m\u001b[1;33m)\u001b[0m\u001b[1;33m\u001b[0m\u001b[1;33m\u001b[0m\u001b[0m\n\u001b[0;32m   1155\u001b[0m \u001b[1;33m\u001b[0m\u001b[0m\n\u001b[1;32m-> 1156\u001b[1;33m         \u001b[0mX\u001b[0m \u001b[1;33m=\u001b[0m \u001b[0mself\u001b[0m\u001b[1;33m.\u001b[0m\u001b[0m_check_test_data\u001b[0m\u001b[1;33m(\u001b[0m\u001b[0mX\u001b[0m\u001b[1;33m)\u001b[0m\u001b[1;33m\u001b[0m\u001b[1;33m\u001b[0m\u001b[0m\n\u001b[0m\u001b[0;32m   1157\u001b[0m         \u001b[0mx_squared_norms\u001b[0m \u001b[1;33m=\u001b[0m \u001b[0mrow_norms\u001b[0m\u001b[1;33m(\u001b[0m\u001b[0mX\u001b[0m\u001b[1;33m,\u001b[0m \u001b[0msquared\u001b[0m\u001b[1;33m=\u001b[0m\u001b[1;32mTrue\u001b[0m\u001b[1;33m)\u001b[0m\u001b[1;33m\u001b[0m\u001b[1;33m\u001b[0m\u001b[0m\n\u001b[0;32m   1158\u001b[0m         \u001b[0msample_weight\u001b[0m \u001b[1;33m=\u001b[0m \u001b[0m_check_sample_weight\u001b[0m\u001b[1;33m(\u001b[0m\u001b[0msample_weight\u001b[0m\u001b[1;33m,\u001b[0m \u001b[0mX\u001b[0m\u001b[1;33m,\u001b[0m \u001b[0mdtype\u001b[0m\u001b[1;33m=\u001b[0m\u001b[0mX\u001b[0m\u001b[1;33m.\u001b[0m\u001b[0mdtype\u001b[0m\u001b[1;33m)\u001b[0m\u001b[1;33m\u001b[0m\u001b[1;33m\u001b[0m\u001b[0m\n",
      "\u001b[1;32mD:\\Anaconda\\lib\\site-packages\\sklearn\\cluster\\_kmeans.py\u001b[0m in \u001b[0;36m_check_test_data\u001b[1;34m(self, X)\u001b[0m\n\u001b[0;32m    856\u001b[0m \u001b[1;33m\u001b[0m\u001b[0m\n\u001b[0;32m    857\u001b[0m     \u001b[1;32mdef\u001b[0m \u001b[0m_check_test_data\u001b[0m\u001b[1;33m(\u001b[0m\u001b[0mself\u001b[0m\u001b[1;33m,\u001b[0m \u001b[0mX\u001b[0m\u001b[1;33m)\u001b[0m\u001b[1;33m:\u001b[0m\u001b[1;33m\u001b[0m\u001b[1;33m\u001b[0m\u001b[0m\n\u001b[1;32m--> 858\u001b[1;33m         X = self._validate_data(X, accept_sparse='csr', reset=False,\n\u001b[0m\u001b[0;32m    859\u001b[0m                                 \u001b[0mdtype\u001b[0m\u001b[1;33m=\u001b[0m\u001b[1;33m[\u001b[0m\u001b[0mnp\u001b[0m\u001b[1;33m.\u001b[0m\u001b[0mfloat64\u001b[0m\u001b[1;33m,\u001b[0m \u001b[0mnp\u001b[0m\u001b[1;33m.\u001b[0m\u001b[0mfloat32\u001b[0m\u001b[1;33m]\u001b[0m\u001b[1;33m,\u001b[0m\u001b[1;33m\u001b[0m\u001b[1;33m\u001b[0m\u001b[0m\n\u001b[0;32m    860\u001b[0m                                 order='C', accept_large_sparse=False)\n",
      "\u001b[1;32mD:\\Anaconda\\lib\\site-packages\\sklearn\\base.py\u001b[0m in \u001b[0;36m_validate_data\u001b[1;34m(self, X, y, reset, validate_separately, **check_params)\u001b[0m\n\u001b[0;32m    435\u001b[0m \u001b[1;33m\u001b[0m\u001b[0m\n\u001b[0;32m    436\u001b[0m         \u001b[1;32mif\u001b[0m \u001b[0mcheck_params\u001b[0m\u001b[1;33m.\u001b[0m\u001b[0mget\u001b[0m\u001b[1;33m(\u001b[0m\u001b[1;34m'ensure_2d'\u001b[0m\u001b[1;33m,\u001b[0m \u001b[1;32mTrue\u001b[0m\u001b[1;33m)\u001b[0m\u001b[1;33m:\u001b[0m\u001b[1;33m\u001b[0m\u001b[1;33m\u001b[0m\u001b[0m\n\u001b[1;32m--> 437\u001b[1;33m             \u001b[0mself\u001b[0m\u001b[1;33m.\u001b[0m\u001b[0m_check_n_features\u001b[0m\u001b[1;33m(\u001b[0m\u001b[0mX\u001b[0m\u001b[1;33m,\u001b[0m \u001b[0mreset\u001b[0m\u001b[1;33m=\u001b[0m\u001b[0mreset\u001b[0m\u001b[1;33m)\u001b[0m\u001b[1;33m\u001b[0m\u001b[1;33m\u001b[0m\u001b[0m\n\u001b[0m\u001b[0;32m    438\u001b[0m \u001b[1;33m\u001b[0m\u001b[0m\n\u001b[0;32m    439\u001b[0m         \u001b[1;32mreturn\u001b[0m \u001b[0mout\u001b[0m\u001b[1;33m\u001b[0m\u001b[1;33m\u001b[0m\u001b[0m\n",
      "\u001b[1;32mD:\\Anaconda\\lib\\site-packages\\sklearn\\base.py\u001b[0m in \u001b[0;36m_check_n_features\u001b[1;34m(self, X, reset)\u001b[0m\n\u001b[0;32m    363\u001b[0m \u001b[1;33m\u001b[0m\u001b[0m\n\u001b[0;32m    364\u001b[0m         \u001b[1;32mif\u001b[0m \u001b[0mn_features\u001b[0m \u001b[1;33m!=\u001b[0m \u001b[0mself\u001b[0m\u001b[1;33m.\u001b[0m\u001b[0mn_features_in_\u001b[0m\u001b[1;33m:\u001b[0m\u001b[1;33m\u001b[0m\u001b[1;33m\u001b[0m\u001b[0m\n\u001b[1;32m--> 365\u001b[1;33m             raise ValueError(\n\u001b[0m\u001b[0;32m    366\u001b[0m                 \u001b[1;34mf\"X has {n_features} features, but {self.__class__.__name__} \"\u001b[0m\u001b[1;33m\u001b[0m\u001b[1;33m\u001b[0m\u001b[0m\n\u001b[0;32m    367\u001b[0m                 f\"is expecting {self.n_features_in_} features as input.\")\n",
      "\u001b[1;31mValueError\u001b[0m: X has 2 features, but KMeans is expecting 3 features as input."
     ]
    }
   ],
   "source": [
    "label = algorithm.predict(X)\n",
    "label"
   ]
  },
  {
   "cell_type": "code",
   "execution_count": null,
   "metadata": {},
   "outputs": [],
   "source": [
    "np.bincount(label)"
   ]
  },
  {
   "cell_type": "code",
   "execution_count": 288,
   "metadata": {},
   "outputs": [
    {
     "data": {
      "text/plain": [
       "KMeans(n_clusters=4)"
      ]
     },
     "execution_count": 288,
     "metadata": {},
     "output_type": "execute_result"
    }
   ],
   "source": [
    "algorithm = KMeans(n_clusters = 4)\n",
    "algorithm.fit(X)"
   ]
  },
  {
   "cell_type": "code",
   "execution_count": 289,
   "metadata": {},
   "outputs": [
    {
     "data": {
      "text/plain": [
       "array([0, 0, 0, ..., 0, 0, 0])"
      ]
     },
     "execution_count": 289,
     "metadata": {},
     "output_type": "execute_result"
    }
   ],
   "source": [
    "label = algorithm.predict(X)\n",
    "label"
   ]
  },
  {
   "cell_type": "code",
   "execution_count": 290,
   "metadata": {
    "scrolled": true
   },
   "outputs": [
    {
     "data": {
      "text/plain": [
       "<matplotlib.collections.PathCollection at 0x1b6103008b0>"
      ]
     },
     "execution_count": 290,
     "metadata": {},
     "output_type": "execute_result"
    },
    {
     "data": {
      "image/png": "[encoded data removed]",
      "text/plain": [
       "<Figure size 432x288 with 1 Axes>"
      ]
     },
     "metadata": {
      "needs_background": "light"
     },
     "output_type": "display_data"
    }
   ],
   "source": [
    "centers = algorithm.cluster_centers_\n",
    "\n",
    "plt.scatter(centers[:, 0], centers[:, 1], c='black', s=200, alpha=0.5)"
   ]
  },
  {
   "cell_type": "code",
   "execution_count": 269,
   "metadata": {},
   "outputs": [
    {
     "ename": "AttributeError",
     "evalue": "'numpy.ndarray' object has no attribute 'columns'",
     "output_type": "error",
     "traceback": [
      "\u001b[1;31m---------------------------------------------------------------------------\u001b[0m",
      "\u001b[1;31mAttributeError\u001b[0m                            Traceback (most recent call last)",
      "\u001b[1;32m<ipython-input-269-901c1061bf7c>\u001b[0m in \u001b[0;36m<module>\u001b[1;34m\u001b[0m\n\u001b[1;32m----> 1\u001b[1;33m \u001b[0mX\u001b[0m\u001b[1;33m.\u001b[0m\u001b[0mcolumns\u001b[0m\u001b[1;33m\u001b[0m\u001b[1;33m\u001b[0m\u001b[0m\n\u001b[0m",
      "\u001b[1;31mAttributeError\u001b[0m: 'numpy.ndarray' object has no attribute 'columns'"
     ]
    }
   ],
   "source": [
    "X.columns"
   ]
  },
  {
   "cell_type": "code",
   "execution_count": 252,
   "metadata": {},
   "outputs": [
    {
     "data": {
      "text/plain": [
       "74836"
      ]
     },
     "execution_count": 252,
     "metadata": {},
     "output_type": "execute_result"
    }
   ],
   "source": [
    "len(df['CUSTOMER_ID'])"
   ]
  },
  {
   "cell_type": "code",
   "execution_count": 253,
   "metadata": {},
   "outputs": [
    {
     "data": {
      "text/plain": [
       "74836"
      ]
     },
     "execution_count": 253,
     "metadata": {},
     "output_type": "execute_result"
    }
   ],
   "source": [
    "len(label)"
   ]
  },
  {
   "cell_type": "code",
   "execution_count": 291,
   "metadata": {},
   "outputs": [
    {
     "data": {
      "image/png": "[encoded data removed]",
      "text/plain": [
       "<Figure size 432x288 with 1 Axes>"
      ]
     },
     "metadata": {
      "needs_background": "light"
     },
     "output_type": "display_data"
    }
   ],
   "source": [
    "#Getting unique labels\n",
    "u_labels = np.unique(label)\n",
    "#plotting the results:\n",
    "for i in u_labels:\n",
    "    plt.scatter(X[label == i , 1] , X[label == i , 1] , label = i)\n",
    "plt.legend()\n",
    "plt.show()"
   ]
  },
  {
   "cell_type": "code",
   "execution_count": 292,
   "metadata": {},
   "outputs": [
    {
     "data": {
      "image/png": "[encoded data removed]",
      "text/plain": [
       "<Figure size 432x288 with 1 Axes>"
      ]
     },
     "metadata": {
      "needs_background": "light"
     },
     "output_type": "display_data"
    }
   ],
   "source": [
    "#Getting the Centroids\n",
    "centroids = algorithm.cluster_centers_\n",
    "u_labels = np.unique(label)\n",
    "#plotting the results:\n",
    "for i in u_labels:\n",
    "    plt.scatter(X[label == i , 0] , X[label == i , 1] , label = i)\n",
    "plt.scatter(centroids[:,0] , centroids[:,1] , s = 80, color = 'k')\n",
    "plt.legend()\n",
    "plt.show()"
   ]
  },
  {
   "cell_type": "markdown",
   "metadata": {
    "id": "z3l6xd85XQp-"
   },
   "source": [
    "<br>\n",
    "<br>\n",
    "<hr>\n",
    "<br>\n",
    "<br>\n",
    "<br>"
   ]
  }
 ],
 "metadata": {
  "colab": {
   "collapsed_sections": [],
   "name": "Criação_Modelo_Cluster_Kmeans.ipynb",
   "provenance": []
  },
  "kernelspec": {
   "display_name": "Python 3",
   "language": "python",
   "name": "python3"
  },
  "language_info": {
   "codemirror_mode": {
    "name": "ipython",
    "version": 3
   },
   "file_extension": ".py",
   "mimetype": "text/x-python",
   "name": "python",
   "nbconvert_exporter": "python",
   "pygments_lexer": "ipython3",
   "version": "3.8.5"
  }
 },
 "nbformat": 4,
 "nbformat_minor": 5
}
